{
 "cells": [
  {
   "cell_type": "markdown",
   "metadata": {},
   "source": [
    "Tutorial written by Jacob M. Dean, University of Bath.\n",
    "\n",
    "It is recommended that you read the global and local variables tutorial before you read this tutorial. This tutorial uses some of the mental model developed in that turorial. "
   ]
  },
  {
   "cell_type": "markdown",
   "metadata": {},
   "source": [
    "### What is a kernel and why should I care about it?\n",
    "\n",
    "For the purposes of this course, we can think of the kernel as the part of the computer that does the following tasks: it keeps track of the memory and it executes the code. As discussed in the global and local variables tutorial, opening up a jupyter notebook is like opening a computer inside your computer. Where we had the mental model represented as follows:"
   ]
  },
  {
   "cell_type": "markdown",
   "metadata": {},
   "source": [
    "<img src=\"img/image_1.png\" alt=\"drawing\" width=\"400\"/>"
   ]
  },
  {
   "cell_type": "markdown",
   "metadata": {},
   "source": [
    "When the jupyter notebook opens it does not have a blank slate, there are default functions. Some default functions that you may have already come across are print() and len(). These print something to screen and return the length of a list, respectively. We can demonstrate how these functions work by creating a list, called example_list, and use the print and len functions like so:"
   ]
  },
  {
   "cell_type": "code",
   "execution_count": 1,
   "metadata": {
    "ExecuteTime": {
     "end_time": "2020-03-20T16:57:29.150838Z",
     "start_time": "2020-03-20T16:57:29.133452Z"
    }
   },
   "outputs": [
    {
     "name": "stdout",
     "output_type": "stream",
     "text": [
      "The list [1, 2, 3] has length 3\n"
     ]
    }
   ],
   "source": [
    "example_list = [1, 2, 3]\n",
    "print(\"The list\", example_list, \"has length\", len(example_list))"
   ]
  },
  {
   "cell_type": "markdown",
   "metadata": {},
   "source": [
    "We have not written or imported (remember we can import libraries of functions like numpy into our jupyter notebooks) the print or len functions. This means they must already be available when we open the jupyter notebook. **These functions come as default when we open the jupyter notebook.** So we can update our mental model which now looks like this:"
   ]
  },
  {
   "cell_type": "markdown",
   "metadata": {},
   "source": [
    "<img src=\"img/image_2.png\" alt=\"drawing\" width=\"700\"/>"
   ]
  },
  {
   "cell_type": "markdown",
   "metadata": {},
   "source": [
    "This is similar to the add and subtract functions that we had in the global and local variables tutorial, but these functions **are already present when we open up the jupyter notebook**. Please note the dotted return line from the print function. This line is dotted because the print function does not return anything, it just prints to screen. See the print v return tutorial on moodle for further information. "
   ]
  },
  {
   "cell_type": "markdown",
   "metadata": {},
   "source": [
    "One common error by students is to over-write default functions by assigning them to variables. One previous example is a student setting print equal to five. Lets discover what happens when do this and try to print afterwards."
   ]
  },
  {
   "cell_type": "code",
   "execution_count": 2,
   "metadata": {
    "ExecuteTime": {
     "end_time": "2020-03-20T16:57:29.164770Z",
     "start_time": "2020-03-20T16:57:29.160870Z"
    }
   },
   "outputs": [],
   "source": [
    "print = 5 "
   ]
  },
  {
   "cell_type": "code",
   "execution_count": 3,
   "metadata": {
    "ExecuteTime": {
     "end_time": "2020-03-20T16:57:29.331483Z",
     "start_time": "2020-03-20T16:57:29.167141Z"
    }
   },
   "outputs": [
    {
     "ename": "TypeError",
     "evalue": "'int' object is not callable",
     "output_type": "error",
     "traceback": [
      "\u001b[0;31m---------------------------------------------------------------------------\u001b[0m",
      "\u001b[0;31mTypeError\u001b[0m                                 Traceback (most recent call last)",
      "\u001b[0;32m<ipython-input-3-eb03d7b9a906>\u001b[0m in \u001b[0;36m<module>\u001b[0;34m\u001b[0m\n\u001b[0;32m----> 1\u001b[0;31m \u001b[0mprint\u001b[0m\u001b[0;34m(\u001b[0m\u001b[0;34m\"Please print this\"\u001b[0m\u001b[0;34m)\u001b[0m\u001b[0;34m\u001b[0m\u001b[0;34m\u001b[0m\u001b[0m\n\u001b[0m",
      "\u001b[0;31mTypeError\u001b[0m: 'int' object is not callable"
     ]
    }
   ],
   "source": [
    "print(\"Please print this\")"
   ]
  },
  {
   "cell_type": "markdown",
   "metadata": {},
   "source": [
    "We get an error that signifies an integer ('int') is not callable. This means it has tried to run (or \"call\") a function but print now equals 5 so there is no longer a function called print. **Assigning functions to be variables is like cutting \"the wires\" to the \"function computer\".** Now that print is equal to 5, the mental model we should be thinking of becomes:"
   ]
  },
  {
   "cell_type": "markdown",
   "metadata": {},
   "source": [
    "<img src=\"img/image_3.png\" alt=\"drawing\" width=\"700\"/>"
   ]
  },
  {
   "cell_type": "markdown",
   "metadata": {},
   "source": [
    "We cannot run (or \"call\") the function print because in the eyes of the computer print is now a variable. We cannot have a variable and a function called the same thing because python would not know if you intended to use the variable or the function. This is true for functions that you write yourself. Remember the function add from the global and local variables tutorial? Lets define it here and see what happens if we over-write it with a variable."
   ]
  },
  {
   "cell_type": "code",
   "execution_count": 4,
   "metadata": {
    "ExecuteTime": {
     "end_time": "2020-03-20T16:57:35.719852Z",
     "start_time": "2020-03-20T16:57:35.714810Z"
    }
   },
   "outputs": [],
   "source": [
    "def add(a,b):\n",
    "    \"\"\"\n",
    "    Description: Add two numbers together.\n",
    "    \n",
    "    Args:\n",
    "    a (float/int): a number\n",
    "    b (float/int): a number to be added to the variable a\n",
    "    \n",
    "    Returns:\n",
    "    c (float/int): the sum of a and b\n",
    "    \"\"\"\n",
    "    c = a + b\n",
    "    return(c)"
   ]
  },
  {
   "cell_type": "markdown",
   "metadata": {},
   "source": [
    "So we now have:"
   ]
  },
  {
   "cell_type": "markdown",
   "metadata": {},
   "source": [
    "<img src=\"img/image_4.png\" alt=\"drawing\" width=\"700\"/>"
   ]
  },
  {
   "cell_type": "markdown",
   "metadata": {},
   "source": [
    "Lets check add is working how we would expect by adding 1 and 5 together."
   ]
  },
  {
   "cell_type": "code",
   "execution_count": 5,
   "metadata": {
    "ExecuteTime": {
     "end_time": "2020-03-20T16:57:37.091715Z",
     "start_time": "2020-03-20T16:57:37.070234Z"
    }
   },
   "outputs": [
    {
     "data": {
      "text/plain": [
       "6"
      ]
     },
     "execution_count": 5,
     "metadata": {},
     "output_type": "execute_result"
    }
   ],
   "source": [
    "add(1,5)"
   ]
  },
  {
   "cell_type": "markdown",
   "metadata": {},
   "source": [
    "This is as we would expect. Lets now assign add to be a variable, say the number 2, and see if it \"cuts the wires\" to the \"add function computer\" by trying to add 1 and 5 again."
   ]
  },
  {
   "cell_type": "code",
   "execution_count": 6,
   "metadata": {
    "ExecuteTime": {
     "end_time": "2020-03-20T16:57:37.846070Z",
     "start_time": "2020-03-20T16:57:37.839417Z"
    }
   },
   "outputs": [],
   "source": [
    "add = 2 "
   ]
  },
  {
   "cell_type": "code",
   "execution_count": 7,
   "metadata": {
    "ExecuteTime": {
     "end_time": "2020-03-20T16:57:38.226525Z",
     "start_time": "2020-03-20T16:57:38.213635Z"
    }
   },
   "outputs": [
    {
     "ename": "TypeError",
     "evalue": "'int' object is not callable",
     "output_type": "error",
     "traceback": [
      "\u001b[0;31m---------------------------------------------------------------------------\u001b[0m",
      "\u001b[0;31mTypeError\u001b[0m                                 Traceback (most recent call last)",
      "\u001b[0;32m<ipython-input-7-843b82998db0>\u001b[0m in \u001b[0;36m<module>\u001b[0;34m\u001b[0m\n\u001b[0;32m----> 1\u001b[0;31m \u001b[0madd\u001b[0m\u001b[0;34m(\u001b[0m\u001b[0;36m1\u001b[0m\u001b[0;34m,\u001b[0m\u001b[0;36m5\u001b[0m\u001b[0;34m)\u001b[0m\u001b[0;34m\u001b[0m\u001b[0;34m\u001b[0m\u001b[0m\n\u001b[0m",
      "\u001b[0;31mTypeError\u001b[0m: 'int' object is not callable"
     ]
    }
   ],
   "source": [
    "add(1,5)"
   ]
  },
  {
   "cell_type": "markdown",
   "metadata": {},
   "source": [
    "This raises an error as we would expect as a is now equal to 2. For completeness, our mental model now looks like this:"
   ]
  },
  {
   "cell_type": "markdown",
   "metadata": {
    "ExecuteTime": {
     "end_time": "2020-03-20T16:14:55.779031Z",
     "start_time": "2020-03-20T16:14:55.774802Z"
    }
   },
   "source": [
    "<img src=\"img/image_5.png\" alt=\"drawing\" width=\"700\"/>"
   ]
  },
  {
   "cell_type": "markdown",
   "metadata": {},
   "source": [
    "So what should you do if you accidentally over-write the print function? It would be very inconvenient if you accidentally over-wrote a default function you could never get it back again. How would you ever print to screen again?\n",
    "\n",
    "Luckily it is easy to return to the default settings and get those default functions back. You simply need to click the \"Kernel\" tab of the jupyter notebook, and then either \"Restart & Clear Output\" or \"Restart & Run All\". This will reset your jupyter notebook back to:"
   ]
  },
  {
   "cell_type": "markdown",
   "metadata": {},
   "source": [
    "<img src=\"img/image_2.png\" alt=\"drawing\" width=\"700\"/>"
   ]
  },
  {
   "cell_type": "markdown",
   "metadata": {},
   "source": [
    "This will also remove your written funtions and variables, but to get these back just re-run those cells. "
   ]
  },
  {
   "cell_type": "markdown",
   "metadata": {},
   "source": [
    "**A note from your demonstrators**\n",
    "\n",
    "If anything weird is going on with your jupyter notebook, try restarting the kernel first. If you are an IT Crowd fan just remember this:\n",
    "\n",
    "<img src=\"img/image_6.jpg\" alt=\"drawing\" width=\"700\"/>\n",
    "\n",
    "(Image taken from: https://www.cipher-it.co.uk/have-you-tried-turning-it-off-and-on-again/)"
   ]
  },
  {
   "cell_type": "code",
   "execution_count": null,
   "metadata": {},
   "outputs": [],
   "source": []
  }
 ],
 "metadata": {
  "kernelspec": {
   "display_name": "Python 3",
   "language": "python",
   "name": "python3"
  },
  "language_info": {
   "codemirror_mode": {
    "name": "ipython",
    "version": 3
   },
   "file_extension": ".py",
   "mimetype": "text/x-python",
   "name": "python",
   "nbconvert_exporter": "python",
   "pygments_lexer": "ipython3",
   "version": "3.7.3"
  }
 },
 "nbformat": 4,
 "nbformat_minor": 2
}
