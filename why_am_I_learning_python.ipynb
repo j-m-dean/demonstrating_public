{
 "cells": [
  {
   "cell_type": "markdown",
   "metadata": {
    "ExecuteTime": {
     "start_time": "2020-03-19T11:22:47.293Z"
    }
   },
   "source": [
    "Written by Jacob M. Dean, University of Bath."
   ]
  },
  {
   "cell_type": "markdown",
   "metadata": {},
   "source": [
    "## I'm studying for a chemistry degree, why do I need to learn python?"
   ]
  },
  {
   "cell_type": "markdown",
   "metadata": {},
   "source": [
    "There are numerous reasons to learn python on a chemistry course. These include, but are not limited to:\n",
    "- it can be utilized for data analysis\n",
    "- it can run simulations of materials, biological structures, and chemical processes\n",
    "- it is a very employable skill\n",
    "- it can reduce the number of boring tasks you have to do\n",
    "- it is fun!\n",
    "\n",
    "We shall now give some examples of each of these reasons to learn python."
   ]
  },
  {
   "cell_type": "markdown",
   "metadata": {},
   "source": [
    "### Data analysis\n",
    "\n",
    "Python can be used to:\n",
    "\n",
    "- discover rate constants in spectroscopic decay data\n",
    "- plot and extract diffusion data\n",
    "- analyse SEM images\n",
    "- analyse simulation data"
   ]
  },
  {
   "cell_type": "markdown",
   "metadata": {},
   "source": [
    "### Simulations"
   ]
  },
  {
   "cell_type": "markdown",
   "metadata": {},
   "source": [
    "Python can be used to model:\n",
    "\n",
    "- next generation solid state battery materials\n",
    "- proteins in biological systems\n",
    "- help model drug activations\n",
    "- ligand attachment\n",
    "\n",
    "(all of these happen in the chemistry department at Bath)"
   ]
  },
  {
   "cell_type": "markdown",
   "metadata": {},
   "source": [
    "### Employability\n",
    "\n",
    "- More and more employers want graduates with some coding experience as they can often efficiently solve problems.\n",
    "- Learning to programme teaches students to work through a problem in a methodical, structured manner.\n",
    "- Not everyone who does a chemistry degree goes into a chemistry related field. It is important to pick up as many skills over the course of your degree so you are adaptable and therefore more employable. "
   ]
  },
  {
   "cell_type": "markdown",
   "metadata": {},
   "source": [
    "### Reducing the number of boring tasks you have to do\n",
    "\n",
    "- Say you want to re-organise all the files on your computer. To make folders, and rename and move files could take you hours to do manually if you have thousands of files. However this can be done with a few lines of code in a fraction of a second using python."
   ]
  },
  {
   "cell_type": "markdown",
   "metadata": {},
   "source": [
    "### It is fun\n",
    "\n",
    "- You can use numerous custom data visualisation packages so you are not stuck with the excel graphs\n",
    "- You create videos and gifs in a few lines of python. These can improve presentations remarkably.\n",
    "- You can get so much satisfaction by playing around with a problem using python"
   ]
  },
  {
   "cell_type": "markdown",
   "metadata": {},
   "source": [
    "#### A note from your demonstrators: \n",
    "<span style=\"color:blue\">Programming is a skill that requires being wrong a lot more often than you are right. \n",
    "</span>\n",
    "\n",
    "We have come across thousands of error messages in our time, and we will come across thousands more. If an error message comes up, do not panic. **Read the last line of the error message**, this usually identifies the problem line. Be patients and try and figure out what is wrong. If you do not know what the error message is saying then copy and paste the final line into google. There are thousands of new programmers who are likely to have come across the same problem, and there are thousands of nice programmers out there to answer your queries. "
   ]
  },
  {
   "cell_type": "code",
   "execution_count": null,
   "metadata": {},
   "outputs": [],
   "source": []
  }
 ],
 "metadata": {
  "kernelspec": {
   "display_name": "Python 3",
   "language": "python",
   "name": "python3"
  },
  "language_info": {
   "codemirror_mode": {
    "name": "ipython",
    "version": 3
   },
   "file_extension": ".py",
   "mimetype": "text/x-python",
   "name": "python",
   "nbconvert_exporter": "python",
   "pygments_lexer": "ipython3",
   "version": "3.7.3"
  }
 },
 "nbformat": 4,
 "nbformat_minor": 2
}
