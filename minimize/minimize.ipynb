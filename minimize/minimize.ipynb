{
 "cells": [
  {
   "cell_type": "markdown",
   "metadata": {
    "ExecuteTime": {
     "end_time": "2020-03-20T20:19:09.707874Z",
     "start_time": "2020-03-20T20:19:09.703509Z"
    }
   },
   "source": [
    "Tutorial written by Jacob M. Dean."
   ]
  },
  {
   "cell_type": "markdown",
   "metadata": {},
   "source": [
    "### An explanation of the minimize function\n",
    "\n",
    "In the exercise for this course you will have to use the minimize function, which is imported from the scipy.optimize library. Importing minimize is done by using the following line"
   ]
  },
  {
   "cell_type": "code",
   "execution_count": 1,
   "metadata": {
    "ExecuteTime": {
     "end_time": "2020-03-20T22:17:55.061271Z",
     "start_time": "2020-03-20T22:17:54.052543Z"
    }
   },
   "outputs": [],
   "source": [
    "from scipy.optimize import minimize"
   ]
  },
  {
   "cell_type": "markdown",
   "metadata": {},
   "source": [
    "In this tutorial we will briefly go through how the minimize function works and potential issues that may be encountered with the minimize function. "
   ]
  },
  {
   "cell_type": "markdown",
   "metadata": {},
   "source": [
    "From your previous studies you should know that the function $f(x) = x^2$ looks like this:"
   ]
  },
  {
   "cell_type": "markdown",
   "metadata": {},
   "source": [
    "<img src=\"img/image_1.png\" alt=\"drawing\" width=\"400\"/>"
   ]
  },
  {
   "cell_type": "markdown",
   "metadata": {
    "ExecuteTime": {
     "end_time": "2020-03-20T20:26:55.032661Z",
     "start_time": "2020-03-20T20:26:54.641798Z"
    }
   },
   "source": [
    "This clearly has a minimum at $x=0$. We can use the minimize function to find this minimum. But first we must define the function in python."
   ]
  },
  {
   "cell_type": "code",
   "execution_count": 2,
   "metadata": {
    "ExecuteTime": {
     "end_time": "2020-03-20T22:17:55.073667Z",
     "start_time": "2020-03-20T22:17:55.066494Z"
    }
   },
   "outputs": [],
   "source": [
    "def square(x):\n",
    "    \"\"\"\n",
    "    Description: a function that squares a number\n",
    "    \n",
    "    Args:\n",
    "    x (int/float): the number to be squared\n",
    "    \n",
    "    Returns:\n",
    "    x_squared (int/float): x squared\n",
    "    \"\"\"\n",
    "    x_squared = x**2\n",
    "    return(x_squared)"
   ]
  },
  {
   "cell_type": "markdown",
   "metadata": {},
   "source": [
    "The minimize function requires a function to minimize and an initial guess. We know this because documentation tells us so (https://docs.scipy.org/doc/scipy/reference/generated/scipy.optimize.minimize.html) or alternatively we could type `minimize?`, which brings up the function description. Lets arbitrarily choose an initial guess at 4. We can now find the minimum of the function square by typing"
   ]
  },
  {
   "cell_type": "code",
   "execution_count": 3,
   "metadata": {
    "ExecuteTime": {
     "end_time": "2020-03-20T22:17:55.081406Z",
     "start_time": "2020-03-20T22:17:55.077204Z"
    }
   },
   "outputs": [],
   "source": [
    "minimum_squared = minimize(square, 4)"
   ]
  },
  {
   "cell_type": "markdown",
   "metadata": {},
   "source": [
    "The output of the minimize function is stored in the minimum_squared variable. Lets see what information has been created"
   ]
  },
  {
   "cell_type": "code",
   "execution_count": 4,
   "metadata": {
    "ExecuteTime": {
     "end_time": "2020-03-20T22:17:55.096325Z",
     "start_time": "2020-03-20T22:17:55.084684Z"
    }
   },
   "outputs": [
    {
     "data": {
      "text/plain": [
       "      fun: 6.668345606604765e-17\n",
       " hess_inv: array([[0.5]])\n",
       "      jac: array([-1.43082657e-09])\n",
       "  message: 'Optimization terminated successfully.'\n",
       "     nfev: 12\n",
       "      nit: 3\n",
       "     njev: 4\n",
       "   status: 0\n",
       "  success: True\n",
       "        x: array([-8.16599388e-09])"
      ]
     },
     "execution_count": 4,
     "metadata": {},
     "output_type": "execute_result"
    }
   ],
   "source": [
    "minimum_squared"
   ]
  },
  {
   "cell_type": "markdown",
   "metadata": {},
   "source": [
    "Now this is a lot of information, but the three pieces of information that you require are fun, message, and x. These represent:\n",
    "- fun: the value of the function at the solution given.\n",
    "- message: this will tell you whether the minimize function has converged on a solution\n",
    "- x: this is the solution the minimize function has found\n",
    "\n",
    "The solution that has been found is of the order $1 \\times 10^{-9}$, which is basically zero. So the minimize function has found our minimum correctly! In order to obtain our solution we can type:"
   ]
  },
  {
   "cell_type": "code",
   "execution_count": 5,
   "metadata": {
    "ExecuteTime": {
     "end_time": "2020-03-20T22:17:55.104955Z",
     "start_time": "2020-03-20T22:17:55.098342Z"
    }
   },
   "outputs": [
    {
     "data": {
      "text/plain": [
       "-8.165993881092959e-09"
      ]
     },
     "execution_count": 5,
     "metadata": {},
     "output_type": "execute_result"
    }
   ],
   "source": [
    "minimum_squared.x[0] #the [0] is required as our solution is stored in an array. We will see why later."
   ]
  },
  {
   "cell_type": "markdown",
   "metadata": {},
   "source": [
    "But was has the minimize function done to get from $x=1$ to the solution at $x=0$? If we image placing a ball at $x=4$ on our graph then it will \"roll down the hill\" until it gets to the bottom as follows:"
   ]
  },
  {
   "cell_type": "markdown",
   "metadata": {},
   "source": [
    "<img src=\"img/image_2.png\" alt=\"drawing\" width=\"800\"/>"
   ]
  },
  {
   "cell_type": "markdown",
   "metadata": {},
   "source": [
    "This is in effect how the minimize function finds its minimum. $f(x)=x^2$ only has one minimum, what happens if we have more than one minimum? Say with the function $f(x)=(x+1)^2(x-1)^2$, which looks like"
   ]
  },
  {
   "cell_type": "markdown",
   "metadata": {
    "ExecuteTime": {
     "end_time": "2020-03-20T21:08:33.361092Z",
     "start_time": "2020-03-20T21:08:33.356035Z"
    }
   },
   "source": [
    "<img src=\"img/image_3.png\" alt=\"drawing\" width=\"400\"/>"
   ]
  },
  {
   "cell_type": "markdown",
   "metadata": {},
   "source": [
    "This has two minima. One at +1 and one at -1. Where does the ball go now? Well it depends where we start, or what our initial guess is:"
   ]
  },
  {
   "cell_type": "markdown",
   "metadata": {},
   "source": [
    "<img src=\"img/image_4.png\" alt=\"drawing\" width=\"800\"/>"
   ]
  },
  {
   "cell_type": "markdown",
   "metadata": {},
   "source": [
    "So if our initial guess is less than 0 then we will obtain the minimum at $x=-1$ and if our initial guess is greater than 0 then we will obtain the minimum at $x=1$. Lets see if this is the case by writing a function for $f(x)=(x+1)^2(x-1)^2$ and using the minimize function:"
   ]
  },
  {
   "cell_type": "code",
   "execution_count": 6,
   "metadata": {
    "ExecuteTime": {
     "end_time": "2020-03-20T22:17:55.124490Z",
     "start_time": "2020-03-20T22:17:55.110565Z"
    }
   },
   "outputs": [
    {
     "name": "stdout",
     "output_type": "stream",
     "text": [
      "If we start at x=2, the minimum we find is x= 0.9999989561808204 and f(x) = 4.358229369988024e-12\n",
      "If we start at x=-2, the minimum we find is x= -0.9999989710772856 and f(x) = 4.23472345132519e-12\n"
     ]
    }
   ],
   "source": [
    "def example_polynomial(x):\n",
    "    \"\"\"\n",
    "    Description: a function that evaluates (x+1)(x+1)(x-1)(x-1)\n",
    "    \n",
    "    Args:\n",
    "    x (int/float): the number to be evaluated\n",
    "    \n",
    "    Returns:\n",
    "    evaluated_value (int/float): (x+1)(x+1)(x-1)(x-1)\n",
    "    \"\"\"\n",
    "    evaluated_value = (x+1)*(x+1)*(x-1)*(x-1)\n",
    "    return(evaluated_value)\n",
    "\n",
    "greater_than_minimum = minimize(example_polynomial, +2)\n",
    "less_than_minimum = minimize(example_polynomial, -2)\n",
    "\n",
    "print(\"If we start at x=2, the minimum we find is x=\", greater_than_minimum.x[0], \"and f(x) =\",greater_than_minimum.fun)\n",
    "print(\"If we start at x=-2, the minimum we find is x=\", less_than_minimum.x[0], \"and f(x) =\",less_than_minimum.fun)"
   ]
  },
  {
   "cell_type": "markdown",
   "metadata": {},
   "source": [
    "These are the solutions that we would expect from our ball rolling example. Here both minimum have a value of zero. What happens if we have two minima which have different values though? This is the case for $f(x)=(2x+1)(x+1)(x-1)(x-2)$, which looks like"
   ]
  },
  {
   "cell_type": "markdown",
   "metadata": {
    "ExecuteTime": {
     "end_time": "2020-03-20T21:31:47.507822Z",
     "start_time": "2020-03-20T21:31:47.501927Z"
    }
   },
   "source": [
    "<img src=\"img/image_5.png\" alt=\"drawing\" width=\"400\"/>"
   ]
  },
  {
   "cell_type": "markdown",
   "metadata": {},
   "source": [
    "Where will the ball roll to now? "
   ]
  },
  {
   "cell_type": "markdown",
   "metadata": {
    "ExecuteTime": {
     "end_time": "2020-03-20T21:38:50.815251Z",
     "start_time": "2020-03-20T21:38:50.807066Z"
    }
   },
   "source": [
    "<img src=\"img/image_6.png\" alt=\"drawing\" width=\"800\"/>"
   ]
  },
  {
   "cell_type": "markdown",
   "metadata": {},
   "source": [
    "Lets see if these predictions are correct by writing this polynomial as a function and initialising our minimization at $x=-3$ and $x=+3$"
   ]
  },
  {
   "cell_type": "code",
   "execution_count": 7,
   "metadata": {
    "ExecuteTime": {
     "end_time": "2020-03-20T22:17:55.141038Z",
     "start_time": "2020-03-20T22:17:55.126798Z"
    }
   },
   "outputs": [
    {
     "name": "stdout",
     "output_type": "stream",
     "text": [
      "If we start at x=3, the minimum we find is x= 1.6029119759082024 and f(x) = -2.620904951418587\n",
      "If we start at x=-3, the minimum we find is x= -0.7784457524125226 and f(x) = -0.6096677436637878\n"
     ]
    }
   ],
   "source": [
    "def second_example_polynomial(x):\n",
    "    \"\"\"\n",
    "    Description: a function that evaluates (2x+1)(x+1)(x-1)(x-2)\n",
    "    \n",
    "    Args:\n",
    "    x (int/float): the number to be evaluated\n",
    "    \n",
    "    Returns:\n",
    "    evaluated_value (int/float): (2x+1)(x+1)(x-1)(x-2)\n",
    "    \"\"\"\n",
    "    evaluated_value = (2*x+1)*(x+1)*(x-1)*(x-2)\n",
    "    return(evaluated_value)\n",
    "\n",
    "second_greater_than_minimum = minimize(second_example_polynomial, +3)\n",
    "second_less_than_minimum = minimize(second_example_polynomial, -3)\n",
    "\n",
    "print(\"If we start at x=3, the minimum we find is x=\", second_greater_than_minimum.x[0], \"and f(x) =\",second_greater_than_minimum.fun)\n",
    "print(\"If we start at x=-3, the minimum we find is x=\", second_less_than_minimum.x[0], \"and f(x) =\",second_less_than_minimum.fun)"
   ]
  },
  {
   "cell_type": "markdown",
   "metadata": {
    "ExecuteTime": {
     "end_time": "2020-03-20T21:48:28.872929Z",
     "start_time": "2020-03-20T21:48:28.866299Z"
    }
   },
   "source": [
    "These are the two minimum that we would expect from $f(x)=(2x+1)(x+1)(x-1)(x-2)$. However, note than the value of $f(x)=(2x+1)(x+1)(x-1)(x-2)$ is lower at $x=1.602$. This is a very important observation. We often want to find the **global minimum** which is the lowest value of $f(x)$. But as we have seen the minimize algorithm can get stuck in **local minima**, like at $x=-0.609$ above, if we \"start the ball rolling\" in the wrong place. "
   ]
  },
  {
   "cell_type": "markdown",
   "metadata": {},
   "source": [
    "Up until now we have just used functions of one variable, $f(x)$. What about functions of two or more variables? Can the minimize function find the minima of those functions. Lets think about the simplest of these functions $g(x,y) = x^2 + y^2$ which looks like:"
   ]
  },
  {
   "cell_type": "markdown",
   "metadata": {},
   "source": [
    "<img src=\"img/image_7.png\" alt=\"drawing\" width=\"400\"/>"
   ]
  },
  {
   "cell_type": "markdown",
   "metadata": {},
   "source": [
    "It may be difficult to see but $g(x,y) = x^2 + y^2$ is in essence a bowl. Where the bottom of the bowl is at $x=0, y=0$. But can the minimize function find this minimum? Yes, it can! We just need to give it the information in the correct way. \n",
    "\n",
    "**The minimize function can only optimize one variable**. How can we fit two variables, $(x,y)$, into one variable? A list is a good solution to this problem. We can use something like variables = [x,y]. Lets write a function to evaluate $g(x,y)$ and optimize it starting at $x=2,y=-2$ and see what result we obtain using the minimize function. "
   ]
  },
  {
   "cell_type": "code",
   "execution_count": 8,
   "metadata": {
    "ExecuteTime": {
     "end_time": "2020-03-20T22:17:55.161914Z",
     "start_time": "2020-03-20T22:17:55.147408Z"
    }
   },
   "outputs": [
    {
     "data": {
      "text/plain": [
       "      fun: 1.3999347093356855e-14\n",
       " hess_inv: array([[0.75000002, 0.25      ],\n",
       "       [0.25      , 0.74999998]])\n",
       "      jac: array([-1.63721946e-07, -1.40312156e-07])\n",
       "  message: 'Optimization terminated successfully.'\n",
       "     nfev: 12\n",
       "      nit: 2\n",
       "     njev: 3\n",
       "   status: 0\n",
       "  success: True\n",
       "        x: array([-8.93115537e-08, -7.76066587e-08])"
      ]
     },
     "execution_count": 8,
     "metadata": {},
     "output_type": "execute_result"
    }
   ],
   "source": [
    "def two_dimensional_polynomial(variables):\n",
    "    \"\"\"\n",
    "    Description: a function that evaluates x**2 + y**2\n",
    "    \n",
    "    Args:\n",
    "    variables (list): a kist containing x as the first item and y as the second item\n",
    "    \n",
    "    Returns:\n",
    "    evaluated_value (float/int): x**2 + y**2\n",
    "    \"\"\"\n",
    "    evaluated_value = variables[0]**2 + variables[1]**2\n",
    "    return(evaluated_value)\n",
    "\n",
    "two_dimensional_minimum = minimize(two_dimensional_polynomial, [2,-2])\n",
    "two_dimensional_minimum"
   ]
  },
  {
   "cell_type": "markdown",
   "metadata": {},
   "source": [
    "We can see that we have found our minimum successfully! Our x and y values are basically zero. Our solution is similarly stored in two_dimensional_minimum.x . **The order in which the solutions are stored is the same as the input into the function being minimized.** So two_dimensional_minimum.x[0] corresponds to the x value at our minimum and two_dimensional_minimum.x[1] corresponds to the y value at our minimum as this is the input order specified in two_dimensional_polynomial. \n",
    "\n",
    "The minimize function can be used in any number of dimensions, it is not limited to one and two. Infact, that is why the solutions are always stored in arrays. The minimize function is designed to work in multiple dimensions."
   ]
  },
  {
   "cell_type": "markdown",
   "metadata": {},
   "source": [
    "**Key take aways:**\n",
    "- you can check if a minimize function has converged by checking the output information.\n",
    "- the minimize function solutions depend on your initial guess.\n",
    "- the minimize function can only optimize one parameter, but you can optimize more variables by storing them in a list."
   ]
  },
  {
   "cell_type": "code",
   "execution_count": null,
   "metadata": {},
   "outputs": [],
   "source": []
  }
 ],
 "metadata": {
  "kernelspec": {
   "display_name": "Python 3",
   "language": "python",
   "name": "python3"
  },
  "language_info": {
   "codemirror_mode": {
    "name": "ipython",
    "version": 3
   },
   "file_extension": ".py",
   "mimetype": "text/x-python",
   "name": "python",
   "nbconvert_exporter": "python",
   "pygments_lexer": "ipython3",
   "version": "3.7.3"
  }
 },
 "nbformat": 4,
 "nbformat_minor": 2
}
