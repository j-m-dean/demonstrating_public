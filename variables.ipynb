{
 "cells": [
  {
   "cell_type": "markdown",
   "metadata": {},
   "source": [
    "Written by Jacob M. Dean, University of Bath."
   ]
  },
  {
   "cell_type": "markdown",
   "metadata": {},
   "source": [
    "### What are variables and how do we use them?"
   ]
  },
  {
   "cell_type": "markdown",
   "metadata": {},
   "source": [
    "In this jupyter notebook we will go through what variables are and how they can save you from doing lots of boring repetitive tasks. We will do these using a somewhat farfetched narrative but the principles are well and truly applicable and important.\n",
    "\n",
    "To start with, imagine you are no longer a student but you are at work. You work for a company that calculates values for other companies. Your boss comes over and they say that they want you to find the following properties of the number 17: its square, its value doubled, and its value halved. So you may go away and calculate the following:"
   ]
  },
  {
   "cell_type": "code",
   "execution_count": 2,
   "metadata": {
    "ExecuteTime": {
     "end_time": "2020-03-19T13:42:41.420155Z",
     "start_time": "2020-03-19T13:42:41.414084Z"
    }
   },
   "outputs": [
    {
     "data": {
      "text/plain": [
       "289"
      ]
     },
     "execution_count": 2,
     "metadata": {},
     "output_type": "execute_result"
    }
   ],
   "source": [
    "17**2"
   ]
  },
  {
   "cell_type": "code",
   "execution_count": 3,
   "metadata": {
    "ExecuteTime": {
     "end_time": "2020-03-19T13:42:41.431164Z",
     "start_time": "2020-03-19T13:42:41.423373Z"
    }
   },
   "outputs": [
    {
     "data": {
      "text/plain": [
       "34"
      ]
     },
     "execution_count": 3,
     "metadata": {},
     "output_type": "execute_result"
    }
   ],
   "source": [
    "17 * 2"
   ]
  },
  {
   "cell_type": "code",
   "execution_count": 4,
   "metadata": {
    "ExecuteTime": {
     "end_time": "2020-03-19T13:42:41.441001Z",
     "start_time": "2020-03-19T13:42:41.434825Z"
    }
   },
   "outputs": [
    {
     "data": {
      "text/plain": [
       "8.5"
      ]
     },
     "execution_count": 4,
     "metadata": {},
     "output_type": "execute_result"
    }
   ],
   "source": [
    "17 / 2 "
   ]
  },
  {
   "cell_type": "markdown",
   "metadata": {},
   "source": [
    "You manually write these values down and you go back to your boss with your information and they're pretty demanding so they ask for the  same properties for 31, 43, and 54. You go away and you run the same calculations for 31, 43, and 54 by calculating:"
   ]
  },
  {
   "cell_type": "code",
   "execution_count": 5,
   "metadata": {
    "ExecuteTime": {
     "end_time": "2020-03-19T13:42:41.451405Z",
     "start_time": "2020-03-19T13:42:41.444215Z"
    }
   },
   "outputs": [
    {
     "data": {
      "text/plain": [
       "961"
      ]
     },
     "execution_count": 5,
     "metadata": {},
     "output_type": "execute_result"
    }
   ],
   "source": [
    "31**2"
   ]
  },
  {
   "cell_type": "code",
   "execution_count": 6,
   "metadata": {
    "ExecuteTime": {
     "end_time": "2020-03-19T13:42:41.463966Z",
     "start_time": "2020-03-19T13:42:41.453709Z"
    }
   },
   "outputs": [
    {
     "data": {
      "text/plain": [
       "62"
      ]
     },
     "execution_count": 6,
     "metadata": {},
     "output_type": "execute_result"
    }
   ],
   "source": [
    "31 * 2 "
   ]
  },
  {
   "cell_type": "code",
   "execution_count": 7,
   "metadata": {
    "ExecuteTime": {
     "end_time": "2020-03-19T13:42:41.471605Z",
     "start_time": "2020-03-19T13:42:41.466413Z"
    }
   },
   "outputs": [
    {
     "data": {
      "text/plain": [
       "15.5"
      ]
     },
     "execution_count": 7,
     "metadata": {},
     "output_type": "execute_result"
    }
   ],
   "source": [
    "31 / 2"
   ]
  },
  {
   "cell_type": "code",
   "execution_count": 8,
   "metadata": {
    "ExecuteTime": {
     "end_time": "2020-03-19T13:42:41.484422Z",
     "start_time": "2020-03-19T13:42:41.477283Z"
    }
   },
   "outputs": [
    {
     "data": {
      "text/plain": [
       "1849"
      ]
     },
     "execution_count": 8,
     "metadata": {},
     "output_type": "execute_result"
    }
   ],
   "source": [
    "43**2"
   ]
  },
  {
   "cell_type": "code",
   "execution_count": 9,
   "metadata": {
    "ExecuteTime": {
     "end_time": "2020-03-19T13:42:41.499989Z",
     "start_time": "2020-03-19T13:42:41.489722Z"
    }
   },
   "outputs": [
    {
     "data": {
      "text/plain": [
       "86"
      ]
     },
     "execution_count": 9,
     "metadata": {},
     "output_type": "execute_result"
    }
   ],
   "source": [
    "43 * 2 "
   ]
  },
  {
   "cell_type": "code",
   "execution_count": 10,
   "metadata": {
    "ExecuteTime": {
     "end_time": "2020-03-19T13:42:41.510915Z",
     "start_time": "2020-03-19T13:42:41.502140Z"
    }
   },
   "outputs": [
    {
     "data": {
      "text/plain": [
       "21.5"
      ]
     },
     "execution_count": 10,
     "metadata": {},
     "output_type": "execute_result"
    }
   ],
   "source": [
    "43 / 2 "
   ]
  },
  {
   "cell_type": "code",
   "execution_count": 11,
   "metadata": {
    "ExecuteTime": {
     "end_time": "2020-03-19T13:42:41.519542Z",
     "start_time": "2020-03-19T13:42:41.513273Z"
    }
   },
   "outputs": [
    {
     "data": {
      "text/plain": [
       "2916"
      ]
     },
     "execution_count": 11,
     "metadata": {},
     "output_type": "execute_result"
    }
   ],
   "source": [
    "54**2 "
   ]
  },
  {
   "cell_type": "code",
   "execution_count": 12,
   "metadata": {
    "ExecuteTime": {
     "end_time": "2020-03-19T13:42:41.533084Z",
     "start_time": "2020-03-19T13:42:41.521522Z"
    }
   },
   "outputs": [
    {
     "data": {
      "text/plain": [
       "108"
      ]
     },
     "execution_count": 12,
     "metadata": {},
     "output_type": "execute_result"
    }
   ],
   "source": [
    "54 * 2"
   ]
  },
  {
   "cell_type": "code",
   "execution_count": 13,
   "metadata": {
    "ExecuteTime": {
     "end_time": "2020-03-19T13:42:41.539945Z",
     "start_time": "2020-03-19T13:42:41.535234Z"
    }
   },
   "outputs": [
    {
     "data": {
      "text/plain": [
       "27.0"
      ]
     },
     "execution_count": 13,
     "metadata": {},
     "output_type": "execute_result"
    }
   ],
   "source": [
    "54 / 2"
   ]
  },
  {
   "cell_type": "markdown",
   "metadata": {},
   "source": [
    "You go back to your boss feeling good for yourself after completing all those calculations. Your boss is looking stressed, and you ask them why. They say that the company has just had a huge contract through and they need those same three properties for: 1, 9, 13, 18, 19, 24, 29, 33, 39, 42, 47, and 52. A much larger job than you've done before.  \n",
    "\n",
    "Luckily you remember that you can use variables to quickly find the properties of these numbers. You remember that the square of the value x is `x**2`, the double is `x * 2`, and the half is `x / 2`. You write the following bit of code:\n"
   ]
  },
  {
   "cell_type": "code",
   "execution_count": 14,
   "metadata": {
    "ExecuteTime": {
     "end_time": "2020-03-19T13:42:41.547820Z",
     "start_time": "2020-03-19T13:42:41.542044Z"
    }
   },
   "outputs": [
    {
     "name": "stdout",
     "output_type": "stream",
     "text": [
      "1 squared is 1\n",
      "1 doubled is 2\n",
      "1 halved is 0.5\n"
     ]
    }
   ],
   "source": [
    "x = 1\n",
    "print(x, \"squared is\", x**2)\n",
    "print(x, \"doubled is\", x * 2)\n",
    "print(x, \"halved is\", x / 2)"
   ]
  },
  {
   "cell_type": "markdown",
   "metadata": {},
   "source": [
    "So now instead of having to do 36 (12 times 3) seperate calculations you just have to replace the variable x with the input values. This saved you so much time and you're feeling pretty good about yourself. You go to tell your boss and they're happy with your performance, but the client now also wants to know what the values are cubed. Your clients are very demanding and they want the information as soon as possible. You tell them that they'll get that information right away and you just add the following line:"
   ]
  },
  {
   "cell_type": "code",
   "execution_count": 15,
   "metadata": {
    "ExecuteTime": {
     "end_time": "2020-03-19T13:42:41.556692Z",
     "start_time": "2020-03-19T13:42:41.550094Z"
    }
   },
   "outputs": [
    {
     "name": "stdout",
     "output_type": "stream",
     "text": [
      "1 squared is 1\n",
      "1 doubled is 2\n",
      "1 halved is 0.5\n",
      "1 cubed is 1\n"
     ]
    }
   ],
   "source": [
    "x = 1\n",
    "print(x, \"squared is\", x**2)\n",
    "print(x, \"doubled is\", x * 2)\n",
    "print(x, \"halved is\", x / 2)\n",
    "print(x, 'cubed is', x**3)"
   ]
  },
  {
   "cell_type": "markdown",
   "metadata": {},
   "source": [
    "Similarly you have made 48 calculations into changing 12 numbers. It turns out the clients were using the above to trial your company's efficiency. They gave you one of their small jobs and you performed well so they've given you a contract for all their calculations. They want you to find the square, cube, double, half, quarter, and quadruple of all the values from 1 to 100. A total of 600 calculations. Your boss accepts the contract, and is about to hire two extra people to do the workload. You tell them that if they do not hire anyone else and pays you double then you'll do all the calculations much quicker than three people can doing it the way you did for the 48 trial calculations. They look at you skeptically, but give you a chance as it will save them a person's wage.\n",
    "\n",
    "But you're a programmer and you've out smarted your boss because you've already solved this problem using variables. You know you need the numbers 1 to 100 but you can get these using:"
   ]
  },
  {
   "cell_type": "code",
   "execution_count": 16,
   "metadata": {
    "ExecuteTime": {
     "end_time": "2020-03-19T13:42:41.564749Z",
     "start_time": "2020-03-19T13:42:41.559682Z"
    }
   },
   "outputs": [
    {
     "data": {
      "text/plain": [
       "range(1, 100)"
      ]
     },
     "execution_count": 16,
     "metadata": {},
     "output_type": "execute_result"
    }
   ],
   "source": [
    "range(1,100)"
   ]
  },
  {
   "cell_type": "markdown",
   "metadata": {},
   "source": [
    "This gives you all integer values from 1 up to but not including 101, but you need to extract them. You can do this like so:"
   ]
  },
  {
   "cell_type": "code",
   "execution_count": 23,
   "metadata": {
    "ExecuteTime": {
     "end_time": "2020-03-19T13:50:45.990527Z",
     "start_time": "2020-03-19T13:50:45.970367Z"
    },
    "scrolled": true
   },
   "outputs": [
    {
     "name": "stdout",
     "output_type": "stream",
     "text": [
      "1\n",
      "2\n",
      "3\n",
      "4\n",
      "5\n",
      "6\n",
      "7\n",
      "8\n",
      "9\n",
      "10\n",
      "11\n",
      "12\n",
      "13\n",
      "14\n",
      "15\n",
      "16\n",
      "17\n",
      "18\n",
      "19\n",
      "20\n",
      "21\n",
      "22\n",
      "23\n",
      "24\n",
      "25\n",
      "26\n",
      "27\n",
      "28\n",
      "29\n",
      "30\n",
      "31\n",
      "32\n",
      "33\n",
      "34\n",
      "35\n",
      "36\n",
      "37\n",
      "38\n",
      "39\n",
      "40\n",
      "41\n",
      "42\n",
      "43\n",
      "44\n",
      "45\n",
      "46\n",
      "47\n",
      "48\n",
      "49\n",
      "50\n",
      "51\n",
      "52\n",
      "53\n",
      "54\n",
      "55\n",
      "56\n",
      "57\n",
      "58\n",
      "59\n",
      "60\n",
      "61\n",
      "62\n",
      "63\n",
      "64\n",
      "65\n",
      "66\n",
      "67\n",
      "68\n",
      "69\n",
      "70\n",
      "71\n",
      "72\n",
      "73\n",
      "74\n",
      "75\n",
      "76\n",
      "77\n",
      "78\n",
      "79\n",
      "80\n",
      "81\n",
      "82\n",
      "83\n",
      "84\n",
      "85\n",
      "86\n",
      "87\n",
      "88\n",
      "89\n",
      "90\n",
      "91\n",
      "92\n",
      "93\n",
      "94\n",
      "95\n",
      "96\n",
      "97\n",
      "98\n",
      "99\n",
      "100\n"
     ]
    }
   ],
   "source": [
    "for x in range(1,101):\n",
    "    print(x)"
   ]
  },
  {
   "cell_type": "markdown",
   "metadata": {},
   "source": [
    "But what is happening here?\n",
    "\n",
    "We can think of `range(1,101)` as a list containing the integers from 1 to 101. The variable `x` takes the first value of the list, `1`, and it is printed, `x` then takes the value of the second value in the list, `2`, and it is printed, and the same process continues until the end of the list. \n",
    "\n",
    "We now need those values that the company wants. You could do this like so:"
   ]
  },
  {
   "cell_type": "code",
   "execution_count": 18,
   "metadata": {
    "ExecuteTime": {
     "end_time": "2020-03-19T13:42:41.798773Z",
     "start_time": "2020-03-19T13:42:41.588799Z"
    }
   },
   "outputs": [
    {
     "name": "stdout",
     "output_type": "stream",
     "text": [
      "x is equal to 1\n",
      "1 squared is 1\n",
      "1 cubed is 1\n",
      "1 doubled is 2\n",
      "1 halved is 0.5\n",
      "1 quadrupled is 4\n",
      "1 quartered is 0.25 \n",
      "\n",
      "x is equal to 2\n",
      "2 squared is 4\n",
      "2 cubed is 8\n",
      "2 doubled is 4\n",
      "2 halved is 1.0\n",
      "2 quadrupled is 8\n",
      "2 quartered is 0.5 \n",
      "\n",
      "x is equal to 3\n",
      "3 squared is 9\n",
      "3 cubed is 27\n",
      "3 doubled is 6\n",
      "3 halved is 1.5\n",
      "3 quadrupled is 12\n",
      "3 quartered is 0.75 \n",
      "\n",
      "x is equal to 4\n",
      "4 squared is 16\n",
      "4 cubed is 64\n",
      "4 doubled is 8\n",
      "4 halved is 2.0\n",
      "4 quadrupled is 16\n",
      "4 quartered is 1.0 \n",
      "\n",
      "x is equal to 5\n",
      "5 squared is 25\n",
      "5 cubed is 125\n",
      "5 doubled is 10\n",
      "5 halved is 2.5\n",
      "5 quadrupled is 20\n",
      "5 quartered is 1.25 \n",
      "\n",
      "x is equal to 6\n",
      "6 squared is 36\n",
      "6 cubed is 216\n",
      "6 doubled is 12\n",
      "6 halved is 3.0\n",
      "6 quadrupled is 24\n",
      "6 quartered is 1.5 \n",
      "\n",
      "x is equal to 7\n",
      "7 squared is 49\n",
      "7 cubed is 343\n",
      "7 doubled is 14\n",
      "7 halved is 3.5\n",
      "7 quadrupled is 28\n",
      "7 quartered is 1.75 \n",
      "\n",
      "x is equal to 8\n",
      "8 squared is 64\n",
      "8 cubed is 512\n",
      "8 doubled is 16\n",
      "8 halved is 4.0\n",
      "8 quadrupled is 32\n",
      "8 quartered is 2.0 \n",
      "\n",
      "x is equal to 9\n",
      "9 squared is 81\n",
      "9 cubed is 729\n",
      "9 doubled is 18\n",
      "9 halved is 4.5\n",
      "9 quadrupled is 36\n",
      "9 quartered is 2.25 \n",
      "\n",
      "x is equal to 10\n",
      "10 squared is 100\n",
      "10 cubed is 1000\n",
      "10 doubled is 20\n",
      "10 halved is 5.0\n",
      "10 quadrupled is 40\n",
      "10 quartered is 2.5 \n",
      "\n",
      "x is equal to 11\n",
      "11 squared is 121\n",
      "11 cubed is 1331\n",
      "11 doubled is 22\n",
      "11 halved is 5.5\n",
      "11 quadrupled is 44\n",
      "11 quartered is 2.75 \n",
      "\n",
      "x is equal to 12\n",
      "12 squared is 144\n",
      "12 cubed is 1728\n",
      "12 doubled is 24\n",
      "12 halved is 6.0\n",
      "12 quadrupled is 48\n",
      "12 quartered is 3.0 \n",
      "\n",
      "x is equal to 13\n",
      "13 squared is 169\n",
      "13 cubed is 2197\n",
      "13 doubled is 26\n",
      "13 halved is 6.5\n",
      "13 quadrupled is 52\n",
      "13 quartered is 3.25 \n",
      "\n",
      "x is equal to 14\n",
      "14 squared is 196\n",
      "14 cubed is 2744\n",
      "14 doubled is 28\n",
      "14 halved is 7.0\n",
      "14 quadrupled is 56\n",
      "14 quartered is 3.5 \n",
      "\n",
      "x is equal to 15\n",
      "15 squared is 225\n",
      "15 cubed is 3375\n",
      "15 doubled is 30\n",
      "15 halved is 7.5\n",
      "15 quadrupled is 60\n",
      "15 quartered is 3.75 \n",
      "\n",
      "x is equal to 16\n",
      "16 squared is 256\n",
      "16 cubed is 4096\n",
      "16 doubled is 32\n",
      "16 halved is 8.0\n",
      "16 quadrupled is 64\n",
      "16 quartered is 4.0 \n",
      "\n",
      "x is equal to 17\n",
      "17 squared is 289\n",
      "17 cubed is 4913\n",
      "17 doubled is 34\n",
      "17 halved is 8.5\n",
      "17 quadrupled is 68\n",
      "17 quartered is 4.25 \n",
      "\n",
      "x is equal to 18\n",
      "18 squared is 324\n",
      "18 cubed is 5832\n",
      "18 doubled is 36\n",
      "18 halved is 9.0\n",
      "18 quadrupled is 72\n",
      "18 quartered is 4.5 \n",
      "\n",
      "x is equal to 19\n",
      "19 squared is 361\n",
      "19 cubed is 6859\n",
      "19 doubled is 38\n",
      "19 halved is 9.5\n",
      "19 quadrupled is 76\n",
      "19 quartered is 4.75 \n",
      "\n",
      "x is equal to 20\n",
      "20 squared is 400\n",
      "20 cubed is 8000\n",
      "20 doubled is 40\n",
      "20 halved is 10.0\n",
      "20 quadrupled is 80\n",
      "20 quartered is 5.0 \n",
      "\n",
      "x is equal to 21\n",
      "21 squared is 441\n",
      "21 cubed is 9261\n",
      "21 doubled is 42\n",
      "21 halved is 10.5\n",
      "21 quadrupled is 84\n",
      "21 quartered is 5.25 \n",
      "\n",
      "x is equal to 22\n",
      "22 squared is 484\n",
      "22 cubed is 10648\n",
      "22 doubled is 44\n",
      "22 halved is 11.0\n",
      "22 quadrupled is 88\n",
      "22 quartered is 5.5 \n",
      "\n",
      "x is equal to 23\n",
      "23 squared is 529\n",
      "23 cubed is 12167\n",
      "23 doubled is 46\n",
      "23 halved is 11.5\n",
      "23 quadrupled is 92\n",
      "23 quartered is 5.75 \n",
      "\n",
      "x is equal to 24\n",
      "24 squared is 576\n",
      "24 cubed is 13824\n",
      "24 doubled is 48\n",
      "24 halved is 12.0\n",
      "24 quadrupled is 96\n",
      "24 quartered is 6.0 \n",
      "\n",
      "x is equal to 25\n",
      "25 squared is 625\n",
      "25 cubed is 15625\n",
      "25 doubled is 50\n",
      "25 halved is 12.5\n",
      "25 quadrupled is 100\n",
      "25 quartered is 6.25 \n",
      "\n",
      "x is equal to 26\n",
      "26 squared is 676\n",
      "26 cubed is 17576\n",
      "26 doubled is 52\n",
      "26 halved is 13.0\n",
      "26 quadrupled is 104\n",
      "26 quartered is 6.5 \n",
      "\n",
      "x is equal to 27\n",
      "27 squared is 729\n",
      "27 cubed is 19683\n",
      "27 doubled is 54\n",
      "27 halved is 13.5\n",
      "27 quadrupled is 108\n",
      "27 quartered is 6.75 \n",
      "\n",
      "x is equal to 28\n",
      "28 squared is 784\n",
      "28 cubed is 21952\n",
      "28 doubled is 56\n",
      "28 halved is 14.0\n",
      "28 quadrupled is 112\n",
      "28 quartered is 7.0 \n",
      "\n",
      "x is equal to 29\n",
      "29 squared is 841\n",
      "29 cubed is 24389\n",
      "29 doubled is 58\n",
      "29 halved is 14.5\n",
      "29 quadrupled is 116\n",
      "29 quartered is 7.25 \n",
      "\n",
      "x is equal to 30\n",
      "30 squared is 900\n",
      "30 cubed is 27000\n",
      "30 doubled is 60\n",
      "30 halved is 15.0\n",
      "30 quadrupled is 120\n",
      "30 quartered is 7.5 \n",
      "\n",
      "x is equal to 31\n",
      "31 squared is 961\n",
      "31 cubed is 29791\n",
      "31 doubled is 62\n",
      "31 halved is 15.5\n",
      "31 quadrupled is 124\n",
      "31 quartered is 7.75 \n",
      "\n",
      "x is equal to 32\n",
      "32 squared is 1024\n",
      "32 cubed is 32768\n",
      "32 doubled is 64\n",
      "32 halved is 16.0\n",
      "32 quadrupled is 128\n",
      "32 quartered is 8.0 \n",
      "\n",
      "x is equal to 33\n",
      "33 squared is 1089\n",
      "33 cubed is 35937\n",
      "33 doubled is 66\n",
      "33 halved is 16.5\n",
      "33 quadrupled is 132\n",
      "33 quartered is 8.25 \n",
      "\n",
      "x is equal to 34\n",
      "34 squared is 1156\n",
      "34 cubed is 39304\n",
      "34 doubled is 68\n",
      "34 halved is 17.0\n",
      "34 quadrupled is 136\n",
      "34 quartered is 8.5 \n",
      "\n",
      "x is equal to 35\n",
      "35 squared is 1225\n",
      "35 cubed is 42875\n",
      "35 doubled is 70\n",
      "35 halved is 17.5\n",
      "35 quadrupled is 140\n",
      "35 quartered is 8.75 \n",
      "\n",
      "x is equal to 36\n",
      "36 squared is 1296\n",
      "36 cubed is 46656\n",
      "36 doubled is 72\n",
      "36 halved is 18.0\n",
      "36 quadrupled is 144\n",
      "36 quartered is 9.0 \n",
      "\n",
      "x is equal to 37\n",
      "37 squared is 1369\n",
      "37 cubed is 50653\n",
      "37 doubled is 74\n",
      "37 halved is 18.5\n",
      "37 quadrupled is 148\n",
      "37 quartered is 9.25 \n",
      "\n",
      "x is equal to 38\n",
      "38 squared is 1444\n",
      "38 cubed is 54872\n",
      "38 doubled is 76\n",
      "38 halved is 19.0\n",
      "38 quadrupled is 152\n",
      "38 quartered is 9.5 \n",
      "\n",
      "x is equal to 39\n",
      "39 squared is 1521\n",
      "39 cubed is 59319\n",
      "39 doubled is 78\n",
      "39 halved is 19.5\n",
      "39 quadrupled is 156\n",
      "39 quartered is 9.75 \n",
      "\n",
      "x is equal to 40\n",
      "40 squared is 1600\n",
      "40 cubed is 64000\n",
      "40 doubled is 80\n",
      "40 halved is 20.0\n",
      "40 quadrupled is 160\n",
      "40 quartered is 10.0 \n",
      "\n",
      "x is equal to 41\n",
      "41 squared is 1681\n",
      "41 cubed is 68921\n",
      "41 doubled is 82\n",
      "41 halved is 20.5\n",
      "41 quadrupled is 164\n",
      "41 quartered is 10.25 \n",
      "\n",
      "x is equal to 42\n",
      "42 squared is 1764\n",
      "42 cubed is 74088\n",
      "42 doubled is 84\n",
      "42 halved is 21.0\n",
      "42 quadrupled is 168\n",
      "42 quartered is 10.5 \n",
      "\n",
      "x is equal to 43\n",
      "43 squared is 1849\n",
      "43 cubed is 79507\n",
      "43 doubled is 86\n",
      "43 halved is 21.5\n",
      "43 quadrupled is 172\n",
      "43 quartered is 10.75 \n",
      "\n",
      "x is equal to 44\n",
      "44 squared is 1936\n",
      "44 cubed is 85184\n",
      "44 doubled is 88\n",
      "44 halved is 22.0\n",
      "44 quadrupled is 176\n",
      "44 quartered is 11.0 \n",
      "\n",
      "x is equal to 45\n",
      "45 squared is 2025\n",
      "45 cubed is 91125\n",
      "45 doubled is 90\n",
      "45 halved is 22.5\n",
      "45 quadrupled is 180\n",
      "45 quartered is 11.25 \n",
      "\n",
      "x is equal to 46\n",
      "46 squared is 2116\n",
      "46 cubed is 97336\n",
      "46 doubled is 92\n",
      "46 halved is 23.0\n",
      "46 quadrupled is 184\n",
      "46 quartered is 11.5 \n",
      "\n",
      "x is equal to 47\n",
      "47 squared is 2209\n",
      "47 cubed is 103823\n",
      "47 doubled is 94\n",
      "47 halved is 23.5\n",
      "47 quadrupled is 188\n",
      "47 quartered is 11.75 \n",
      "\n",
      "x is equal to 48\n",
      "48 squared is 2304\n",
      "48 cubed is 110592\n",
      "48 doubled is 96\n",
      "48 halved is 24.0\n",
      "48 quadrupled is 192\n",
      "48 quartered is 12.0 \n",
      "\n",
      "x is equal to 49\n",
      "49 squared is 2401\n",
      "49 cubed is 117649\n",
      "49 doubled is 98\n",
      "49 halved is 24.5\n",
      "49 quadrupled is 196\n",
      "49 quartered is 12.25 \n",
      "\n",
      "x is equal to 50\n",
      "50 squared is 2500\n",
      "50 cubed is 125000\n",
      "50 doubled is 100\n",
      "50 halved is 25.0\n",
      "50 quadrupled is 200\n",
      "50 quartered is 12.5 \n",
      "\n",
      "x is equal to 51\n",
      "51 squared is 2601\n",
      "51 cubed is 132651\n",
      "51 doubled is 102\n",
      "51 halved is 25.5\n",
      "51 quadrupled is 204\n",
      "51 quartered is 12.75 \n",
      "\n",
      "x is equal to 52\n",
      "52 squared is 2704\n",
      "52 cubed is 140608\n",
      "52 doubled is 104\n",
      "52 halved is 26.0\n",
      "52 quadrupled is 208\n",
      "52 quartered is 13.0 \n",
      "\n",
      "x is equal to 53\n",
      "53 squared is 2809\n",
      "53 cubed is 148877\n",
      "53 doubled is 106\n",
      "53 halved is 26.5\n",
      "53 quadrupled is 212\n",
      "53 quartered is 13.25 \n",
      "\n",
      "x is equal to 54\n",
      "54 squared is 2916\n",
      "54 cubed is 157464\n",
      "54 doubled is 108\n",
      "54 halved is 27.0\n",
      "54 quadrupled is 216\n",
      "54 quartered is 13.5 \n",
      "\n",
      "x is equal to 55\n",
      "55 squared is 3025\n",
      "55 cubed is 166375\n",
      "55 doubled is 110\n",
      "55 halved is 27.5\n",
      "55 quadrupled is 220\n",
      "55 quartered is 13.75 \n",
      "\n",
      "x is equal to 56\n",
      "56 squared is 3136\n",
      "56 cubed is 175616\n",
      "56 doubled is 112\n",
      "56 halved is 28.0\n",
      "56 quadrupled is 224\n",
      "56 quartered is 14.0 \n",
      "\n",
      "x is equal to 57\n",
      "57 squared is 3249\n",
      "57 cubed is 185193\n",
      "57 doubled is 114\n",
      "57 halved is 28.5\n",
      "57 quadrupled is 228\n",
      "57 quartered is 14.25 \n",
      "\n",
      "x is equal to 58\n",
      "58 squared is 3364\n",
      "58 cubed is 195112\n",
      "58 doubled is 116\n",
      "58 halved is 29.0\n",
      "58 quadrupled is 232\n",
      "58 quartered is 14.5 \n",
      "\n",
      "x is equal to 59\n",
      "59 squared is 3481\n",
      "59 cubed is 205379\n",
      "59 doubled is 118\n",
      "59 halved is 29.5\n",
      "59 quadrupled is 236\n",
      "59 quartered is 14.75 \n",
      "\n",
      "x is equal to 60\n",
      "60 squared is 3600\n",
      "60 cubed is 216000\n",
      "60 doubled is 120\n",
      "60 halved is 30.0\n",
      "60 quadrupled is 240\n",
      "60 quartered is 15.0 \n",
      "\n",
      "x is equal to 61\n",
      "61 squared is 3721\n",
      "61 cubed is 226981\n",
      "61 doubled is 122\n",
      "61 halved is 30.5\n",
      "61 quadrupled is 244\n",
      "61 quartered is 15.25 \n",
      "\n",
      "x is equal to 62\n",
      "62 squared is 3844\n",
      "62 cubed is 238328\n",
      "62 doubled is 124\n",
      "62 halved is 31.0\n",
      "62 quadrupled is 248\n",
      "62 quartered is 15.5 \n",
      "\n",
      "x is equal to 63\n",
      "63 squared is 3969\n",
      "63 cubed is 250047\n",
      "63 doubled is 126\n",
      "63 halved is 31.5\n",
      "63 quadrupled is 252\n",
      "63 quartered is 15.75 \n",
      "\n",
      "x is equal to 64\n",
      "64 squared is 4096\n",
      "64 cubed is 262144\n",
      "64 doubled is 128\n",
      "64 halved is 32.0\n",
      "64 quadrupled is 256\n",
      "64 quartered is 16.0 \n",
      "\n",
      "x is equal to 65\n",
      "65 squared is 4225\n",
      "65 cubed is 274625\n",
      "65 doubled is 130\n",
      "65 halved is 32.5\n",
      "65 quadrupled is 260\n",
      "65 quartered is 16.25 \n",
      "\n",
      "x is equal to 66\n",
      "66 squared is 4356\n",
      "66 cubed is 287496\n",
      "66 doubled is 132\n",
      "66 halved is 33.0\n",
      "66 quadrupled is 264\n",
      "66 quartered is 16.5 \n",
      "\n",
      "x is equal to 67\n",
      "67 squared is 4489\n",
      "67 cubed is 300763\n",
      "67 doubled is 134\n",
      "67 halved is 33.5\n",
      "67 quadrupled is 268\n",
      "67 quartered is 16.75 \n",
      "\n",
      "x is equal to 68\n",
      "68 squared is 4624\n",
      "68 cubed is 314432\n",
      "68 doubled is 136\n",
      "68 halved is 34.0\n",
      "68 quadrupled is 272\n",
      "68 quartered is 17.0 \n",
      "\n",
      "x is equal to 69\n",
      "69 squared is 4761\n",
      "69 cubed is 328509\n",
      "69 doubled is 138\n",
      "69 halved is 34.5\n",
      "69 quadrupled is 276\n",
      "69 quartered is 17.25 \n",
      "\n",
      "x is equal to 70\n",
      "70 squared is 4900\n",
      "70 cubed is 343000\n",
      "70 doubled is 140\n",
      "70 halved is 35.0\n",
      "70 quadrupled is 280\n",
      "70 quartered is 17.5 \n",
      "\n",
      "x is equal to 71\n",
      "71 squared is 5041\n",
      "71 cubed is 357911\n",
      "71 doubled is 142\n",
      "71 halved is 35.5\n",
      "71 quadrupled is 284\n",
      "71 quartered is 17.75 \n",
      "\n",
      "x is equal to 72\n",
      "72 squared is 5184\n",
      "72 cubed is 373248\n",
      "72 doubled is 144\n",
      "72 halved is 36.0\n",
      "72 quadrupled is 288\n",
      "72 quartered is 18.0 \n",
      "\n",
      "x is equal to 73\n",
      "73 squared is 5329\n",
      "73 cubed is 389017\n",
      "73 doubled is 146\n",
      "73 halved is 36.5\n",
      "73 quadrupled is 292\n",
      "73 quartered is 18.25 \n",
      "\n",
      "x is equal to 74\n",
      "74 squared is 5476\n",
      "74 cubed is 405224\n",
      "74 doubled is 148\n",
      "74 halved is 37.0\n",
      "74 quadrupled is 296\n",
      "74 quartered is 18.5 \n",
      "\n",
      "x is equal to 75\n",
      "75 squared is 5625\n",
      "75 cubed is 421875\n",
      "75 doubled is 150\n",
      "75 halved is 37.5\n",
      "75 quadrupled is 300\n",
      "75 quartered is 18.75 \n",
      "\n",
      "x is equal to 76\n",
      "76 squared is 5776\n",
      "76 cubed is 438976\n",
      "76 doubled is 152\n",
      "76 halved is 38.0\n",
      "76 quadrupled is 304\n",
      "76 quartered is 19.0 \n",
      "\n",
      "x is equal to 77\n",
      "77 squared is 5929\n",
      "77 cubed is 456533\n",
      "77 doubled is 154\n",
      "77 halved is 38.5\n",
      "77 quadrupled is 308\n",
      "77 quartered is 19.25 \n",
      "\n",
      "x is equal to 78\n",
      "78 squared is 6084\n",
      "78 cubed is 474552\n",
      "78 doubled is 156\n",
      "78 halved is 39.0\n",
      "78 quadrupled is 312\n",
      "78 quartered is 19.5 \n",
      "\n",
      "x is equal to 79\n",
      "79 squared is 6241\n",
      "79 cubed is 493039\n",
      "79 doubled is 158\n",
      "79 halved is 39.5\n",
      "79 quadrupled is 316\n",
      "79 quartered is 19.75 \n",
      "\n",
      "x is equal to 80\n",
      "80 squared is 6400\n",
      "80 cubed is 512000\n",
      "80 doubled is 160\n",
      "80 halved is 40.0\n",
      "80 quadrupled is 320\n",
      "80 quartered is 20.0 \n",
      "\n",
      "x is equal to 81\n",
      "81 squared is 6561\n",
      "81 cubed is 531441\n",
      "81 doubled is 162\n",
      "81 halved is 40.5\n",
      "81 quadrupled is 324\n",
      "81 quartered is 20.25 \n",
      "\n",
      "x is equal to 82\n",
      "82 squared is 6724\n",
      "82 cubed is 551368\n",
      "82 doubled is 164\n",
      "82 halved is 41.0\n",
      "82 quadrupled is 328\n",
      "82 quartered is 20.5 \n",
      "\n",
      "x is equal to 83\n",
      "83 squared is 6889\n",
      "83 cubed is 571787\n",
      "83 doubled is 166\n"
     ]
    },
    {
     "name": "stdout",
     "output_type": "stream",
     "text": [
      "83 halved is 41.5\n",
      "83 quadrupled is 332\n",
      "83 quartered is 20.75 \n",
      "\n",
      "x is equal to 84\n",
      "84 squared is 7056\n",
      "84 cubed is 592704\n",
      "84 doubled is 168\n",
      "84 halved is 42.0\n",
      "84 quadrupled is 336\n",
      "84 quartered is 21.0 \n",
      "\n",
      "x is equal to 85\n",
      "85 squared is 7225\n",
      "85 cubed is 614125\n",
      "85 doubled is 170\n",
      "85 halved is 42.5\n",
      "85 quadrupled is 340\n",
      "85 quartered is 21.25 \n",
      "\n",
      "x is equal to 86\n",
      "86 squared is 7396\n",
      "86 cubed is 636056\n",
      "86 doubled is 172\n",
      "86 halved is 43.0\n",
      "86 quadrupled is 344\n",
      "86 quartered is 21.5 \n",
      "\n",
      "x is equal to 87\n",
      "87 squared is 7569\n",
      "87 cubed is 658503\n",
      "87 doubled is 174\n",
      "87 halved is 43.5\n",
      "87 quadrupled is 348\n",
      "87 quartered is 21.75 \n",
      "\n",
      "x is equal to 88\n",
      "88 squared is 7744\n",
      "88 cubed is 681472\n",
      "88 doubled is 176\n",
      "88 halved is 44.0\n",
      "88 quadrupled is 352\n",
      "88 quartered is 22.0 \n",
      "\n",
      "x is equal to 89\n",
      "89 squared is 7921\n",
      "89 cubed is 704969\n",
      "89 doubled is 178\n",
      "89 halved is 44.5\n",
      "89 quadrupled is 356\n",
      "89 quartered is 22.25 \n",
      "\n",
      "x is equal to 90\n",
      "90 squared is 8100\n",
      "90 cubed is 729000\n",
      "90 doubled is 180\n",
      "90 halved is 45.0\n",
      "90 quadrupled is 360\n",
      "90 quartered is 22.5 \n",
      "\n",
      "x is equal to 91\n",
      "91 squared is 8281\n",
      "91 cubed is 753571\n",
      "91 doubled is 182\n",
      "91 halved is 45.5\n",
      "91 quadrupled is 364\n",
      "91 quartered is 22.75 \n",
      "\n",
      "x is equal to 92\n",
      "92 squared is 8464\n",
      "92 cubed is 778688\n",
      "92 doubled is 184\n",
      "92 halved is 46.0\n",
      "92 quadrupled is 368\n",
      "92 quartered is 23.0 \n",
      "\n",
      "x is equal to 93\n",
      "93 squared is 8649\n",
      "93 cubed is 804357\n",
      "93 doubled is 186\n",
      "93 halved is 46.5\n",
      "93 quadrupled is 372\n",
      "93 quartered is 23.25 \n",
      "\n",
      "x is equal to 94\n",
      "94 squared is 8836\n",
      "94 cubed is 830584\n",
      "94 doubled is 188\n",
      "94 halved is 47.0\n",
      "94 quadrupled is 376\n",
      "94 quartered is 23.5 \n",
      "\n",
      "x is equal to 95\n",
      "95 squared is 9025\n",
      "95 cubed is 857375\n",
      "95 doubled is 190\n",
      "95 halved is 47.5\n",
      "95 quadrupled is 380\n",
      "95 quartered is 23.75 \n",
      "\n",
      "x is equal to 96\n",
      "96 squared is 9216\n",
      "96 cubed is 884736\n",
      "96 doubled is 192\n",
      "96 halved is 48.0\n",
      "96 quadrupled is 384\n",
      "96 quartered is 24.0 \n",
      "\n",
      "x is equal to 97\n",
      "97 squared is 9409\n",
      "97 cubed is 912673\n",
      "97 doubled is 194\n",
      "97 halved is 48.5\n",
      "97 quadrupled is 388\n",
      "97 quartered is 24.25 \n",
      "\n",
      "x is equal to 98\n",
      "98 squared is 9604\n",
      "98 cubed is 941192\n",
      "98 doubled is 196\n",
      "98 halved is 49.0\n",
      "98 quadrupled is 392\n",
      "98 quartered is 24.5 \n",
      "\n",
      "x is equal to 99\n",
      "99 squared is 9801\n",
      "99 cubed is 970299\n",
      "99 doubled is 198\n",
      "99 halved is 49.5\n",
      "99 quadrupled is 396\n",
      "99 quartered is 24.75 \n",
      "\n",
      "x is equal to 100\n",
      "100 squared is 10000\n",
      "100 cubed is 1000000\n",
      "100 doubled is 200\n",
      "100 halved is 50.0\n",
      "100 quadrupled is 400\n",
      "100 quartered is 25.0 \n",
      "\n"
     ]
    }
   ],
   "source": [
    "for x in range(1,101):\n",
    "    print(\"x is equal to\", x)\n",
    "    print(x, \"squared is\", x**2)\n",
    "    print(x, \"cubed is\", x**3)\n",
    "    print(x, \"doubled is\", x*2)\n",
    "    print(x, \"halved is\", x/2)\n",
    "    print(x, \"quadrupled is\", x*4)\n",
    "    print(x, \"quartered is\", x/4, \"\\n\") #the \"\\n\" just skips a line"
   ]
  },
  {
   "cell_type": "markdown",
   "metadata": {},
   "source": [
    "You've finished the calculations in no time at all. This time you do not go back to your boss, but you go to the client and say if they pay you 100 times as much then you'll find them all the properties they've previously asked for but this time from 1 until 1,000,000. This is 100 times the pay for 10000 times \"the work\" so the company accept. You change 101 to 1,000,001 in the code above and walk home with a tidy pay day. You go and book a holiday and enjoy your 100 fold increase in pay for adding some zeros on.\n",
    "\n",
    "Whilst this narrative may seem ridiculous, it <span style=\"color:blue\">highlights that variables can save you a lot of time and are very valuable.</span> No employer will ask for values like a double or a half, but they may ask for values like a standard deviation or a standard error on sets of data. The same principles can be used to do this. \n",
    "\n",
    "The use of the for loops is not necessary to use in the first year python course. Its use here is purely to exemplify that variables are useful. If you do not understand how it works do not worry. If you are interest though, please play around with it! Programming is all about experimenting. \n",
    "\n",
    "It is tempting in the exercises to just type in the numbers because you only have to complete a task once or twice. We encourage you to use variables because when you get to the python courses in future years, or when you get a job after university, you will be asked to do tasks tens if not hundreds of times. <span style=\"color:blue\">Taking the time to learn how to use variables now is a good investment of time.</span> "
   ]
  }
 ],
 "metadata": {
  "kernelspec": {
   "display_name": "Python 3",
   "language": "python",
   "name": "python3"
  },
  "language_info": {
   "codemirror_mode": {
    "name": "ipython",
    "version": 3
   },
   "file_extension": ".py",
   "mimetype": "text/x-python",
   "name": "python",
   "nbconvert_exporter": "python",
   "pygments_lexer": "ipython3",
   "version": "3.7.3"
  }
 },
 "nbformat": 4,
 "nbformat_minor": 2
}
