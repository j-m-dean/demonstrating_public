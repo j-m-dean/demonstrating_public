{
 "cells": [
  {
   "cell_type": "markdown",
   "metadata": {},
   "source": [
    "Tutorial written by Jacob M. Dean, University of Bath"
   ]
  },
  {
   "cell_type": "markdown",
   "metadata": {
    "ExecuteTime": {
     "end_time": "2020-03-17T15:15:50.761760Z",
     "start_time": "2020-03-17T15:15:50.746137Z"
    }
   },
   "source": [
    "### Global v Local Variables"
   ]
  },
  {
   "cell_type": "markdown",
   "metadata": {},
   "source": [
    "So far you have been working through tutorials using Jupyter notebooks. The idea of variables can be very abstract and confusing to new programmers. In this tutorial we will try to go through the difference between local and global variables in python so that you have a better mental model going forward. We will try to build this mental model one step at a time."
   ]
  },
  {
   "cell_type": "markdown",
   "metadata": {},
   "source": [
    "You have just started up your jupyter notebook. We shall represent this by the blue box below. Let's think of this box as a computer inside the computer you are working on."
   ]
  },
  {
   "cell_type": "markdown",
   "metadata": {
    "ExecuteTime": {
     "end_time": "2020-03-19T14:44:23.863618Z",
     "start_time": "2020-03-19T14:44:23.857495Z"
    }
   },
   "source": [
    "<img src=\"img/image_1.png\" alt=\"drawing\" width=\"700\"/>"
   ]
  },
  {
   "cell_type": "markdown",
   "metadata": {},
   "source": [
    "We will now set so variables in the jupyter notebook, such that:"
   ]
  },
  {
   "cell_type": "code",
   "execution_count": null,
   "metadata": {
    "ExecuteTime": {
     "end_time": "2020-03-17T22:01:34.088839Z",
     "start_time": "2020-03-17T22:01:34.085127Z"
    }
   },
   "outputs": [],
   "source": [
    "variable_1 = 1 \n",
    "variable_2 = 5\n",
    "variable_3 = 17"
   ]
  },
  {
   "cell_type": "markdown",
   "metadata": {},
   "source": [
    "We can add this to our mental model. The jupyter notebook now looks like the following:"
   ]
  },
  {
   "cell_type": "markdown",
   "metadata": {},
   "source": [
    "\n",
    " <img src=\"img/image_2.png\" alt=\"drawing\" width=\"700\"/>"
   ]
  },
  {
   "cell_type": "markdown",
   "metadata": {},
   "source": [
    "These variables are **global variables** because they have been assigned inside the jupyter notebook \"computer\".\n",
    "\n",
    "To better understand why these are called global variables, we must define some functions. Let us define the two simplest of functions where we either add or subtract two numbers. This is defined as follows:"
   ]
  },
  {
   "cell_type": "code",
   "execution_count": null,
   "metadata": {
    "ExecuteTime": {
     "end_time": "2020-03-17T22:01:34.097539Z",
     "start_time": "2020-03-17T22:01:34.091603Z"
    }
   },
   "outputs": [],
   "source": [
    "def add(a,b):\n",
    "    \"\"\"\n",
    "    Description: Add two numbers together.\n",
    "    \n",
    "    Args:\n",
    "    a (float/int): a number\n",
    "    b (float/int): a number to be added to the variable a\n",
    "\n",
    "    \"\"\"\n",
    "    c = a + b\n",
    "    \n",
    "def subtract(x,y):\n",
    "    \"\"\"\n",
    "    Description: Subtract one number from another.\n",
    "    \n",
    "    Args:\n",
    "    x (float/int): a number\n",
    "    y (float/int): a number to be subtracted from the variable x\n",
    "    \n",
    "    \"\"\"\n",
    "    z = x - y"
   ]
  },
  {
   "cell_type": "markdown",
   "metadata": {},
   "source": [
    "<span style=\"color: blue;\">An aside: the red text in the function are called docstrings. These provide a brief description of what the\n",
    "function does, the arguments (Args) going into the function as well as their data types- in this case a is an integer or a float, and what the function returns. We will come to returns later in this tutorial.</span>\n",
    "\n",
    "\n",
    "\n",
    "We now wish for you to do something drastic. We would you to think of a world without wi-fi, a world where information can only be transferred through wires; **wires that can only transfer information in one direction**. This is the world that our mental model is in. \n",
    "\n",
    "By defining our functions we have built **two new seperate computers** which have a wire connecting the function in our jupyter notebook to the input region of our function computers.\n",
    "\n",
    "Our mental model becomes:"
   ]
  },
  {
   "cell_type": "markdown",
   "metadata": {
    "ExecuteTime": {
     "end_time": "2020-03-17T15:57:47.980523Z",
     "start_time": "2020-03-17T15:57:47.975637Z"
    }
   },
   "source": [
    " <img src=\"img/image_3.png\" alt=\"drawing\" width=\"700\"/>"
   ]
  },
  {
   "cell_type": "markdown",
   "metadata": {},
   "source": [
    "Remember though, that we are only interacting with the blue jupyter notebook computer. So how do we get information into the two new computers that we have just made by defining our functions?\n",
    "\n",
    "We can call a function by using add() or subtract() with our chosen variables and this is like sending the variable information down the wire connecting the jupyter notebook to our seperate computers."
   ]
  },
  {
   "cell_type": "code",
   "execution_count": null,
   "metadata": {
    "ExecuteTime": {
     "end_time": "2020-03-17T22:01:34.106234Z",
     "start_time": "2020-03-17T22:01:34.100468Z"
    }
   },
   "outputs": [],
   "source": [
    "print(add(variable_1, variable_2))\n",
    "print(subtract(variable_1, variable_2))"
   ]
  },
  {
   "cell_type": "markdown",
   "metadata": {},
   "source": [
    "This returns \"None\" for both the function add and the function subtract. This is because we have not told our add or subtract functions to return anything so **no information can \"return to\" the jupyter notebook.** In our mental model above, this is shown by a lack of a connection from the output box to the jupyter notebook. We need to make this connection by using **return** in our add and subtract function like so:"
   ]
  },
  {
   "cell_type": "code",
   "execution_count": null,
   "metadata": {
    "ExecuteTime": {
     "end_time": "2020-03-17T22:01:34.114288Z",
     "start_time": "2020-03-17T22:01:34.108794Z"
    }
   },
   "outputs": [],
   "source": [
    "def add(a,b):\n",
    "    \"\"\"\n",
    "    Description: Add two numbers together.\n",
    "    \n",
    "    Args:\n",
    "    a (float/int): a number\n",
    "    b (float/int): a number to be added to the variable a\n",
    "    \n",
    "    Returns:\n",
    "    c (float/int): the sum of a and b\n",
    "    \"\"\"\n",
    "    c = a + b\n",
    "    return(c)\n",
    "    \n",
    "def subtract(x,y):\n",
    "    \"\"\"\n",
    "    Description: Subtract one number from another\n",
    "    \n",
    "    Args:\n",
    "    x (float/int): a number\n",
    "    y (float/int): a number to be subtracted from the variable x\n",
    "    \n",
    "    Returns:\n",
    "    z (float/int): b subtracted from a \n",
    "    \"\"\"\n",
    "    z = x - y\n",
    "    return(z)"
   ]
  },
  {
   "cell_type": "markdown",
   "metadata": {},
   "source": [
    "By adding the return statement we are \"wiring\" our function back to the jupyter notebook that we are interacting with. Our mental model now looks like this:"
   ]
  },
  {
   "cell_type": "markdown",
   "metadata": {},
   "source": [
    "\n",
    "<img src=\"img/image_4.png\" alt=\"drawing\" width=\"700\"/>"
   ]
  },
  {
   "cell_type": "markdown",
   "metadata": {},
   "source": [
    "If we now try to use the add and subtrct functions we get:"
   ]
  },
  {
   "cell_type": "code",
   "execution_count": null,
   "metadata": {
    "ExecuteTime": {
     "end_time": "2020-03-17T22:01:34.122890Z",
     "start_time": "2020-03-17T22:01:34.116484Z"
    }
   },
   "outputs": [],
   "source": [
    "print(variable_1, \"+\", variable_2, \"=\",add(variable_1, variable_2))\n",
    "print(variable_1, \"-\", variable_2, \"=\",subtract(variable_1, variable_2))"
   ]
  },
  {
   "cell_type": "markdown",
   "metadata": {},
   "source": [
    "The solutions we would expect.\n",
    "\n",
    "You are probably thinking: this tutorial is titled global and local variables and we have not talked about local variables yet. **Local variables are variables that only exist inside the local function computer.**\n",
    "\n",
    "What do we mean by this?\n",
    "\n",
    "In the add and subtract functions, we have variables a and b. If we try to access these variables from the jupyter notebook the following happens:"
   ]
  },
  {
   "cell_type": "code",
   "execution_count": null,
   "metadata": {
    "ExecuteTime": {
     "end_time": "2020-03-17T22:01:34.248382Z",
     "start_time": "2020-03-17T22:01:34.125707Z"
    }
   },
   "outputs": [],
   "source": [
    "print(a)"
   ]
  },
  {
   "cell_type": "code",
   "execution_count": null,
   "metadata": {
    "ExecuteTime": {
     "end_time": "2020-03-17T22:01:48.806228Z",
     "start_time": "2020-03-17T22:01:48.797909Z"
    }
   },
   "outputs": [],
   "source": [
    "print(b)"
   ]
  },
  {
   "cell_type": "markdown",
   "metadata": {},
   "source": [
    "The jupyter notebook does not know that the variables a and b exist because they only exist inside the add function. The variables a and b only exist \"locally\" inside the \"add computer\".\n",
    "\n",
    "How does python set these local variables?\n",
    "\n",
    "By using the function call as follows:"
   ]
  },
  {
   "cell_type": "code",
   "execution_count": null,
   "metadata": {
    "ExecuteTime": {
     "end_time": "2020-03-17T22:01:49.225234Z",
     "start_time": "2020-03-17T22:01:49.213304Z"
    }
   },
   "outputs": [],
   "source": [
    "add(variable_1, variable_2)"
   ]
  },
  {
   "cell_type": "markdown",
   "metadata": {},
   "source": [
    "But what does python do when we \"call\" the add function by using the above?"
   ]
  },
  {
   "cell_type": "markdown",
   "metadata": {},
   "source": [
    "<img src=\"img/image_5.png\" alt=\"drawing\" width=\"700\"/>"
   ]
  },
  {
   "cell_type": "markdown",
   "metadata": {},
   "source": [
    "The above image demonstrates what python does: \n",
    "\n",
    "1) We call the function add and we send the information variable_1 and variable_2 to the \"add computer\".\n",
    "\n",
    "2) We can think of the variable_1 arriving down the wire first and therefore the add computer assigns the local variable a to be the value of variable_1, in this case 1. The order is specified when we defined our function add(a,b) - a was before b.\n",
    "\n",
    "3) variable_2 arrives at the \"add computer\" and it is assigned to the local variable b. \n",
    "\n",
    "4) The function's process occurs. We set the local variable c to be equal to a + b. \n",
    "\n",
    "5) We send the value of the local variable c back to the jupyter notebook using the return call and our jupyter notebook shows the value 6, which is the value of the local variable c. \n",
    "\n",
    "But what happens if we want to add some different numbers? Say variable_2 and variable_3. This is done as follows:"
   ]
  },
  {
   "cell_type": "code",
   "execution_count": null,
   "metadata": {
    "ExecuteTime": {
     "end_time": "2020-03-17T22:01:49.986479Z",
     "start_time": "2020-03-17T22:01:49.981532Z"
    }
   },
   "outputs": [],
   "source": [
    "add(variable_2, variable_3)"
   ]
  },
  {
   "cell_type": "markdown",
   "metadata": {},
   "source": [
    "In our mental model this is demonstrated by:"
   ]
  },
  {
   "cell_type": "markdown",
   "metadata": {},
   "source": [
    "<img src=\"img/image_6.png\" alt=\"drawing\" width=\"700\"/>"
   ]
  },
  {
   "cell_type": "markdown",
   "metadata": {},
   "source": [
    "Whilst it does not matter which order we input our variables into the add function, it is very important in the subtract function. Say we want to subtract variable_2 from variable_3. Then we would use:"
   ]
  },
  {
   "cell_type": "code",
   "execution_count": null,
   "metadata": {
    "ExecuteTime": {
     "end_time": "2020-03-17T22:01:50.929116Z",
     "start_time": "2020-03-17T22:01:50.923416Z"
    }
   },
   "outputs": [],
   "source": [
    "subtract(variable_3,variable_2)"
   ]
  },
  {
   "cell_type": "markdown",
   "metadata": {},
   "source": [
    "So python has done the following:"
   ]
  },
  {
   "cell_type": "markdown",
   "metadata": {
    "ExecuteTime": {
     "end_time": "2020-03-17T19:09:30.103375Z",
     "start_time": "2020-03-17T19:09:29.977764Z"
    }
   },
   "source": [
    "<img src=\"img/image_7.png\" alt=\"drawing\" width=\"700\"/>"
   ]
  },
  {
   "cell_type": "markdown",
   "metadata": {},
   "source": [
    "Whereas if we were to put variable_2 and variable_3 the other way around, we would obtain a different answer because the variables \"arrived down the wire in the wrong order\"."
   ]
  },
  {
   "cell_type": "markdown",
   "metadata": {},
   "source": [
    "\n",
    "<img src=\"img/image_8.png\" alt=\"drawing\" width=\"700\"/>"
   ]
  },
  {
   "cell_type": "markdown",
   "metadata": {},
   "source": [
    "**So the order in which variables are put into functions is very important.**"
   ]
  },
  {
   "cell_type": "markdown",
   "metadata": {},
   "source": [
    "We now know that we cannot view local variables in the jupyter notebook because they do not exist in the jupyter notebook. But how about the other way around? Can our \"function computers\" see the variables in our jupyter notebook? **Yes, they can because the variables in the jupyter notebook are global variables.**\n",
    "\n",
    "We will show this using the example function defined below:"
   ]
  },
  {
   "cell_type": "code",
   "execution_count": null,
   "metadata": {
    "ExecuteTime": {
     "end_time": "2020-03-17T22:01:53.066435Z",
     "start_time": "2020-03-17T22:01:53.062995Z"
    }
   },
   "outputs": [],
   "source": [
    "def example():\n",
    "    \"\"\"\n",
    "    Description: an example function to show the use of global variables\n",
    "    \n",
    "    Returns:\n",
    "    variable_3 : the global variable variable_3\n",
    "    \n",
    "    \"\"\"\n",
    "    return(variable_3)\n",
    "    "
   ]
  },
  {
   "cell_type": "code",
   "execution_count": null,
   "metadata": {
    "ExecuteTime": {
     "end_time": "2020-03-17T22:01:53.153316Z",
     "start_time": "2020-03-17T22:01:53.146952Z"
    }
   },
   "outputs": [],
   "source": [
    "example()"
   ]
  },
  {
   "cell_type": "markdown",
   "metadata": {},
   "source": [
    "But how does this work if variable_3 was not \"sent down the wire\" with the function call. Let's update our mental model again, such that we now have the following: "
   ]
  },
  {
   "cell_type": "markdown",
   "metadata": {},
   "source": [
    "\n",
    "<img src=\"img/image_9.png\" alt=\"drawing\" width=\"700\"/>"
   ]
  },
  {
   "cell_type": "markdown",
   "metadata": {},
   "source": [
    "So we can imagine that when we call the function add we \"start up\" the \"add computer\" and when we do this we first send all the global variables down the wire and then we send the values of the local variables in the function call. \n",
    "\n",
    "We can now picture the add function such that:"
   ]
  },
  {
   "cell_type": "markdown",
   "metadata": {
    "ExecuteTime": {
     "end_time": "2020-03-17T19:52:55.388176Z",
     "start_time": "2020-03-17T19:52:55.263979Z"
    }
   },
   "source": [
    "\n",
    "<img src=\"img/image_10.png\" alt=\"drawing\" width=\"700\"/>"
   ]
  },
  {
   "cell_type": "markdown",
   "metadata": {},
   "source": [
    "A natural question at this point is to ask: what if I name the local variables in my functions the same as one of the global variables in my jupyter notebook? Let's have a look by defining a and b in the jupyter notebook and using the add function."
   ]
  },
  {
   "cell_type": "code",
   "execution_count": null,
   "metadata": {
    "ExecuteTime": {
     "end_time": "2020-03-17T22:01:54.828012Z",
     "start_time": "2020-03-17T22:01:54.822106Z"
    }
   },
   "outputs": [],
   "source": [
    "a = 3\n",
    "b = 7\n",
    "add(a,b)"
   ]
  },
  {
   "cell_type": "markdown",
   "metadata": {
    "ExecuteTime": {
     "end_time": "2020-03-17T20:07:40.316826Z",
     "start_time": "2020-03-17T20:07:40.307566Z"
    }
   },
   "source": [
    "The add function can now be viewed as:"
   ]
  },
  {
   "cell_type": "markdown",
   "metadata": {},
   "source": [
    "\n",
    "<img src=\"img/image_11.png\" alt=\"drawing\" width=\"700\"/>"
   ]
  },
  {
   "cell_type": "markdown",
   "metadata": {},
   "source": [
    "This may seem like nothing has happened, but if we call add(b,a) instead we see that the values of a and b in the \"add computer\" are different to the jupyter notebook:"
   ]
  },
  {
   "cell_type": "markdown",
   "metadata": {},
   "source": [
    "\n",
    "<img src=\"img/image_12.png\" alt=\"drawing\" width=\"700\"/>"
   ]
  },
  {
   "cell_type": "markdown",
   "metadata": {},
   "source": [
    "This is because the local variables used as inputs \"over-write\" the global variables in the \"add computer\". "
   ]
  },
  {
   "cell_type": "markdown",
   "metadata": {
    "ExecuteTime": {
     "end_time": "2020-03-17T20:13:29.503888Z",
     "start_time": "2020-03-17T20:13:29.498786Z"
    }
   },
   "source": [
    "This can be seen below by using the second_example function:"
   ]
  },
  {
   "cell_type": "code",
   "execution_count": null,
   "metadata": {
    "ExecuteTime": {
     "end_time": "2020-03-17T22:01:56.901297Z",
     "start_time": "2020-03-17T22:01:56.897269Z"
    }
   },
   "outputs": [],
   "source": [
    "def second_example(a,b):\n",
    "    \"\"\"\n",
    "    Description: Demonstrating local and global variables.\n",
    "    \n",
    "    Args:\n",
    "    a : a value\n",
    "    b : a value\n",
    "    \n",
    "    Returns:\n",
    "    A list containing two items: \n",
    "    local_variables (dict): a dictionary of local variables to the\n",
    "    second_example function\n",
    "    global_variables (dict): a dictionary of global variables\n",
    "    \"\"\"\n",
    "    local_variables = locals()\n",
    "    global_variables = globals()\n",
    "    return([local_variables, global_variables])"
   ]
  },
  {
   "cell_type": "markdown",
   "metadata": {},
   "source": [
    "The locals() and globals() functions are functions that return global and local variables in each \"function computer\". If we now run the second_example function we can see that the variables a and b are overwritten due to the order they are inputted into the function."
   ]
  },
  {
   "cell_type": "code",
   "execution_count": null,
   "metadata": {
    "ExecuteTime": {
     "end_time": "2020-03-17T22:01:57.553646Z",
     "start_time": "2020-03-17T22:01:57.545584Z"
    }
   },
   "outputs": [],
   "source": [
    "variables = second_example(b,a)\n",
    "\n",
    "print(\"local variable a in the second_example function is equation to\", variables[0][\"a\"])\n",
    "print(\"global variable a is equation to\", variables[1][\"a\"])\n",
    "print(\"local variable b in the second_example function is equation to\", variables[0][\"b\"])\n",
    "print(\"global variable b is equation to\", variables[1][\"b\"])"
   ]
  },
  {
   "cell_type": "markdown",
   "metadata": {},
   "source": [
    "The **key takeaways** of this tutorial should be that:\n",
    "\n",
    "- global variables are set in the jupyter notebook and sent to the \"function computers\"\n",
    "\n",
    "- local variables exist only in \"function computers\"\n",
    "\n",
    "- the order which information is sent to the \"function computers\" dictates the assignment of local variables.\n",
    "\n",
    "- local variables do not exist inside the jupyter notebook. "
   ]
  },
  {
   "cell_type": "code",
   "execution_count": null,
   "metadata": {},
   "outputs": [],
   "source": []
  }
 ],
 "metadata": {
  "kernelspec": {
   "display_name": "Python 3",
   "language": "python",
   "name": "python3"
  },
  "language_info": {
   "codemirror_mode": {
    "name": "ipython",
    "version": 3
   },
   "file_extension": ".py",
   "mimetype": "text/x-python",
   "name": "python",
   "nbconvert_exporter": "python",
   "pygments_lexer": "ipython3",
   "version": "3.7.3"
  }
 },
 "nbformat": 4,
 "nbformat_minor": 2
}
